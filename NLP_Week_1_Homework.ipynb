{
  "nbformat": 4,
  "nbformat_minor": 0,
  "metadata": {
    "colab": {
      "name": "NLP_Week_1_Homework.ipynb",
      "provenance": [],
      "authorship_tag": "ABX9TyPL+P/9EyNOAbI998ScTyAX",
      "include_colab_link": true
    },
    "kernelspec": {
      "name": "python3",
      "display_name": "Python 3"
    },
    "language_info": {
      "name": "python"
    }
  },
  "cells": [
    {
      "cell_type": "markdown",
      "metadata": {
        "id": "view-in-github",
        "colab_type": "text"
      },
      "source": [
        "<a href=\"https://colab.research.google.com/github/deshanahan/DATA-690-NLP/blob/main/NLP_Week_1_Homework.ipynb\" target=\"_parent\"><img src=\"https://colab.research.google.com/assets/colab-badge.svg\" alt=\"Open In Colab\"/></a>"
      ]
    },
    {
      "cell_type": "code",
      "metadata": {
        "id": "Ce1bSwXYwamu"
      },
      "source": [
        "import PyPDF2\n",
        "\n",
        "def homework_reader(pdf_file):\n",
        "  pdfFileObj = open(pdf_file, 'rb')\n",
        "  pdfReader = PyPDF2.PdfFileReader(pdfFileObj)\n",
        "  num_pages = pdfReader.numPages\n",
        "  \n",
        "  get_pages = [pdfReader.getPage(page) for page in range(0, num_pages)]\n",
        "\n",
        "  text = [pageObj.extractText() for pageObj in get_pages]\n",
        "  \n",
        "  lines = []\n",
        "  for words in text:\n",
        "    lines.append(words.split('\\n'))\n",
        "\n",
        "  return lines"
      ],
      "execution_count": 73,
      "outputs": []
    },
    {
      "cell_type": "code",
      "metadata": {
        "colab": {
          "base_uri": "https://localhost:8080/"
        },
        "id": "F6kxlFXlx9Nc",
        "outputId": "7c6357de-cbcb-4688-a579-c49207b37d7b"
      },
      "source": [
        "homework = homework_reader('/DATA 690 Homework Week 1.pdf')\n",
        "\n",
        "for lst in homework:\n",
        "  for line in lst:\n",
        "    print(line)"
      ],
      "execution_count": 80,
      "outputs": [
        {
          "output_type": "stream",
          "name": "stdout",
          "text": [
            "Dr. Tony Diana\n",
            " DATA 690 Introduction to NLP\n",
            " Homework, Lecture 1\n",
            "  1.!Which of the following is not an application of NLP?\n",
            " a.!Image labelling\n",
            " b.!Poetry generation\n",
            " c.!Sentimental analysis\n",
            " d.!E-mail classification\n",
            " 2.!Which of the following is not an NLP task?\n",
            " a.!Tokenization\n",
            " b.!Stop word removal\n",
            " c.!Part\n",
            "-of-speech tagging\n",
            " d.!Image segmentation\n",
            " 3.!Which of the following is not a disadvantage of rule\n",
            "-based approaches for NLP?\n",
            " a.!Not flexible\n",
            " b.!Not scalable\n",
            " c.!Requires huge dataset\n",
            " d.!None of the above\n",
            " 4.!What are the two major types of NLP ap\n",
            "proaches?\n",
            " 5.!Use TextBlob to translate a sentence in English into French, Mandarin, and \n",
            "Hindi? a.!Import TextBlob\n",
            " b.!Languages are coded as ÔfrÕ, Ôzh\n",
            "-CNÕ, ÔhiÕ c.!Translate the following sentence ÒWho knew translation could be funÓ into \n",
            "French, Mandarin, and \n",
            "Hindi  \n"
          ]
        }
      ]
    },
    {
      "cell_type": "markdown",
      "metadata": {
        "id": "qXTF_h3Uipel"
      },
      "source": [
        "# Questions\n",
        "1.   a. Image labelling is not an application of NLP.\n",
        "2.   d. Image segmentation is not an NLP task.\n",
        "3.   d. None of the above are not disadvantages of rule-based approaches for NLP.\n",
        "4.   The two major types of NLP approaches are rule-based and machine-learning techniques."
      ]
    },
    {
      "cell_type": "code",
      "metadata": {
        "colab": {
          "base_uri": "https://localhost:8080/"
        },
        "id": "NNAt_Yxiji5g",
        "outputId": "7f8dc688-cff7-4c5f-8d2e-add16275b50f"
      },
      "source": [
        "import textblob\n",
        "t = textblob.translate.Translator()\n",
        "lang_codes = ['fr', 'zh-CN', 'hi']\n",
        "question_5 = [t.translate('Who knew translation could be fun', from_lang='en', to_lang=lang) for lang in lang_codes]\n",
        "for sentence in question_5:\n",
        "  print(sentence)"
      ],
      "execution_count": 2,
      "outputs": [
        {
          "output_type": "stream",
          "name": "stdout",
          "text": [
            "Qui savait que la traduction pouvait être amusante\n",
            "谁知道翻译会很有趣\n",
            "कौन जानता था कि अनुवाद मजेदार हो सकता है\n"
          ]
        }
      ]
    }
  ]
}